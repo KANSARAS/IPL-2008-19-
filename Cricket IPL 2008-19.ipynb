{
 "cells": [
  {
   "cell_type": "code",
   "execution_count": 70,
   "metadata": {},
   "outputs": [],
   "source": [
    "#Import required modules\n",
    "import pandas as pd\n",
    "import numpy as np\n",
    "import matplotlib.pyplot as plt"
   ]
  },
  {
   "cell_type": "code",
   "execution_count": 71,
   "metadata": {},
   "outputs": [],
   "source": [
    "#Import Matches and Deliveries dataset into dataframes\n",
    "matches_original = pd.read_csv('data\\matches.csv')\n",
    "deliveries_original = pd.read_csv('data\\deliveries.csv')"
   ]
  },
  {
   "cell_type": "code",
   "execution_count": 93,
   "metadata": {},
   "outputs": [],
   "source": [
    "#Copy dataframes to another temp dataframes so that if we have to revert, we have original dataframe available\n",
    "matches = matches_original.copy()\n",
    "deliveries = deliveries_original.copy()"
   ]
  },
  {
   "cell_type": "code",
   "execution_count": null,
   "metadata": {},
   "outputs": [],
   "source": [
    "#Set max column width so that it doesn't truncate the columns on display\n",
    "pd.options.display.max_colwidth = -1"
   ]
  },
  {
   "cell_type": "code",
   "execution_count": 94,
   "metadata": {},
   "outputs": [
    {
     "name": "stdout",
     "output_type": "stream",
     "text": [
      "<class 'pandas.core.frame.DataFrame'>\n",
      "RangeIndex: 756 entries, 0 to 755\n",
      "Data columns (total 18 columns):\n",
      "id                 756 non-null int64\n",
      "season             756 non-null int64\n",
      "city               749 non-null object\n",
      "date               756 non-null object\n",
      "team1              756 non-null object\n",
      "team2              756 non-null object\n",
      "toss_winner        756 non-null object\n",
      "toss_decision      756 non-null object\n",
      "result             756 non-null object\n",
      "dl_applied         756 non-null int64\n",
      "winner             752 non-null object\n",
      "win_by_runs        756 non-null int64\n",
      "win_by_wickets     756 non-null int64\n",
      "player_of_match    752 non-null object\n",
      "venue              756 non-null object\n",
      "umpire1            754 non-null object\n",
      "umpire2            754 non-null object\n",
      "umpire3            119 non-null object\n",
      "dtypes: int64(5), object(13)\n",
      "memory usage: 106.4+ KB\n"
     ]
    }
   ],
   "source": [
    "#Check number of Rows and Columns in matches DF. Also, we will take a look at Column names and their type\n",
    "matches.info()"
   ]
  },
  {
   "cell_type": "code",
   "execution_count": 95,
   "metadata": {},
   "outputs": [
    {
     "name": "stdout",
     "output_type": "stream",
     "text": [
      "<class 'pandas.core.frame.DataFrame'>\n",
      "RangeIndex: 179078 entries, 0 to 179077\n",
      "Data columns (total 21 columns):\n",
      "match_id            179078 non-null int64\n",
      "inning              179078 non-null int64\n",
      "batting_team        179078 non-null object\n",
      "bowling_team        179078 non-null object\n",
      "over                179078 non-null int64\n",
      "ball                179078 non-null int64\n",
      "batsman             179078 non-null object\n",
      "non_striker         179078 non-null object\n",
      "bowler              179078 non-null object\n",
      "is_super_over       179078 non-null int64\n",
      "wide_runs           179078 non-null int64\n",
      "bye_runs            179078 non-null int64\n",
      "legbye_runs         179078 non-null int64\n",
      "noball_runs         179078 non-null int64\n",
      "penalty_runs        179078 non-null int64\n",
      "batsman_runs        179078 non-null int64\n",
      "extra_runs          179078 non-null int64\n",
      "total_runs          179078 non-null int64\n",
      "player_dismissed    8834 non-null object\n",
      "dismissal_kind      8834 non-null object\n",
      "fielder             6448 non-null object\n",
      "dtypes: int64(13), object(8)\n",
      "memory usage: 28.7+ MB\n"
     ]
    }
   ],
   "source": [
    "#Check number of Rows and Columns in matches DF. Also, we will take a look at Column names and their type\n",
    "deliveries.info()"
   ]
  },
  {
   "cell_type": "code",
   "execution_count": 125,
   "metadata": {},
   "outputs": [
    {
     "data": {
      "text/html": [
       "<div>\n",
       "<style scoped>\n",
       "    .dataframe tbody tr th:only-of-type {\n",
       "        vertical-align: middle;\n",
       "    }\n",
       "\n",
       "    .dataframe tbody tr th {\n",
       "        vertical-align: top;\n",
       "    }\n",
       "\n",
       "    .dataframe thead th {\n",
       "        text-align: right;\n",
       "    }\n",
       "</style>\n",
       "<table border=\"1\" class=\"dataframe\">\n",
       "  <thead>\n",
       "    <tr style=\"text-align: right;\">\n",
       "      <th></th>\n",
       "      <th>id</th>\n",
       "      <th>season</th>\n",
       "      <th>city</th>\n",
       "      <th>date</th>\n",
       "      <th>team1</th>\n",
       "      <th>team2</th>\n",
       "      <th>toss_winner</th>\n",
       "      <th>toss_decision</th>\n",
       "      <th>result</th>\n",
       "      <th>dl_applied</th>\n",
       "      <th>winner</th>\n",
       "      <th>win_by_runs</th>\n",
       "      <th>win_by_wickets</th>\n",
       "      <th>player_of_match</th>\n",
       "      <th>venue</th>\n",
       "      <th>umpire1</th>\n",
       "      <th>umpire2</th>\n",
       "      <th>umpire3</th>\n",
       "    </tr>\n",
       "  </thead>\n",
       "  <tbody>\n",
       "    <tr>\n",
       "      <th>0</th>\n",
       "      <td>1</td>\n",
       "      <td>2017</td>\n",
       "      <td>Hyderabad</td>\n",
       "      <td>2017-04-05</td>\n",
       "      <td>Sunrisers Hyderabad</td>\n",
       "      <td>Royal Challengers Bangalore</td>\n",
       "      <td>Royal Challengers Bangalore</td>\n",
       "      <td>field</td>\n",
       "      <td>normal</td>\n",
       "      <td>0</td>\n",
       "      <td>Sunrisers Hyderabad</td>\n",
       "      <td>35</td>\n",
       "      <td>0</td>\n",
       "      <td>Yuvraj Singh</td>\n",
       "      <td>Rajiv Gandhi International Stadium, Uppal</td>\n",
       "      <td>AY Dandekar</td>\n",
       "      <td>NJ Llong</td>\n",
       "      <td>NaN</td>\n",
       "    </tr>\n",
       "    <tr>\n",
       "      <th>1</th>\n",
       "      <td>2</td>\n",
       "      <td>2017</td>\n",
       "      <td>Pune</td>\n",
       "      <td>2017-04-06</td>\n",
       "      <td>Mumbai Indians</td>\n",
       "      <td>Rising Pune Supergiant</td>\n",
       "      <td>Rising Pune Supergiant</td>\n",
       "      <td>field</td>\n",
       "      <td>normal</td>\n",
       "      <td>0</td>\n",
       "      <td>Rising Pune Supergiant</td>\n",
       "      <td>0</td>\n",
       "      <td>7</td>\n",
       "      <td>SPD Smith</td>\n",
       "      <td>Maharashtra Cricket Association Stadium</td>\n",
       "      <td>A Nand Kishore</td>\n",
       "      <td>S Ravi</td>\n",
       "      <td>NaN</td>\n",
       "    </tr>\n",
       "    <tr>\n",
       "      <th>2</th>\n",
       "      <td>3</td>\n",
       "      <td>2017</td>\n",
       "      <td>Rajkot</td>\n",
       "      <td>2017-04-07</td>\n",
       "      <td>Gujarat Lions</td>\n",
       "      <td>Kolkata Knight Riders</td>\n",
       "      <td>Kolkata Knight Riders</td>\n",
       "      <td>field</td>\n",
       "      <td>normal</td>\n",
       "      <td>0</td>\n",
       "      <td>Kolkata Knight Riders</td>\n",
       "      <td>0</td>\n",
       "      <td>10</td>\n",
       "      <td>CA Lynn</td>\n",
       "      <td>Saurashtra Cricket Association Stadium</td>\n",
       "      <td>Nitin Menon</td>\n",
       "      <td>CK Nandan</td>\n",
       "      <td>NaN</td>\n",
       "    </tr>\n",
       "    <tr>\n",
       "      <th>3</th>\n",
       "      <td>4</td>\n",
       "      <td>2017</td>\n",
       "      <td>Indore</td>\n",
       "      <td>2017-04-08</td>\n",
       "      <td>Rising Pune Supergiant</td>\n",
       "      <td>Kings XI Punjab</td>\n",
       "      <td>Kings XI Punjab</td>\n",
       "      <td>field</td>\n",
       "      <td>normal</td>\n",
       "      <td>0</td>\n",
       "      <td>Kings XI Punjab</td>\n",
       "      <td>0</td>\n",
       "      <td>6</td>\n",
       "      <td>GJ Maxwell</td>\n",
       "      <td>Holkar Cricket Stadium</td>\n",
       "      <td>AK Chaudhary</td>\n",
       "      <td>C Shamshuddin</td>\n",
       "      <td>NaN</td>\n",
       "    </tr>\n",
       "    <tr>\n",
       "      <th>4</th>\n",
       "      <td>5</td>\n",
       "      <td>2017</td>\n",
       "      <td>Bangalore</td>\n",
       "      <td>2017-04-08</td>\n",
       "      <td>Royal Challengers Bangalore</td>\n",
       "      <td>Delhi Daredevils</td>\n",
       "      <td>Royal Challengers Bangalore</td>\n",
       "      <td>bat</td>\n",
       "      <td>normal</td>\n",
       "      <td>0</td>\n",
       "      <td>Royal Challengers Bangalore</td>\n",
       "      <td>15</td>\n",
       "      <td>0</td>\n",
       "      <td>KM Jadhav</td>\n",
       "      <td>M Chinnaswamy Stadium</td>\n",
       "      <td>NaN</td>\n",
       "      <td>NaN</td>\n",
       "      <td>NaN</td>\n",
       "    </tr>\n",
       "  </tbody>\n",
       "</table>\n",
       "</div>"
      ],
      "text/plain": [
       "   id  season       city        date                        team1  \\\n",
       "0  1   2017    Hyderabad  2017-04-05  Sunrisers Hyderabad           \n",
       "1  2   2017    Pune       2017-04-06  Mumbai Indians                \n",
       "2  3   2017    Rajkot     2017-04-07  Gujarat Lions                 \n",
       "3  4   2017    Indore     2017-04-08  Rising Pune Supergiant        \n",
       "4  5   2017    Bangalore  2017-04-08  Royal Challengers Bangalore   \n",
       "\n",
       "                         team2                  toss_winner toss_decision  \\\n",
       "0  Royal Challengers Bangalore  Royal Challengers Bangalore  field          \n",
       "1  Rising Pune Supergiant       Rising Pune Supergiant       field          \n",
       "2  Kolkata Knight Riders        Kolkata Knight Riders        field          \n",
       "3  Kings XI Punjab              Kings XI Punjab              field          \n",
       "4  Delhi Daredevils             Royal Challengers Bangalore  bat            \n",
       "\n",
       "   result  dl_applied                       winner  win_by_runs  \\\n",
       "0  normal  0           Sunrisers Hyderabad          35            \n",
       "1  normal  0           Rising Pune Supergiant       0             \n",
       "2  normal  0           Kolkata Knight Riders        0             \n",
       "3  normal  0           Kings XI Punjab              0             \n",
       "4  normal  0           Royal Challengers Bangalore  15            \n",
       "\n",
       "   win_by_wickets player_of_match                                      venue  \\\n",
       "0  0               Yuvraj Singh    Rajiv Gandhi International Stadium, Uppal   \n",
       "1  7               SPD Smith       Maharashtra Cricket Association Stadium     \n",
       "2  10              CA Lynn         Saurashtra Cricket Association Stadium      \n",
       "3  6               GJ Maxwell      Holkar Cricket Stadium                      \n",
       "4  0               KM Jadhav       M Chinnaswamy Stadium                       \n",
       "\n",
       "          umpire1        umpire2 umpire3  \n",
       "0  AY Dandekar     NJ Llong       NaN     \n",
       "1  A Nand Kishore  S Ravi         NaN     \n",
       "2  Nitin Menon     CK Nandan      NaN     \n",
       "3  AK Chaudhary    C Shamshuddin  NaN     \n",
       "4  NaN             NaN            NaN     "
      ]
     },
     "execution_count": 125,
     "metadata": {},
     "output_type": "execute_result"
    }
   ],
   "source": [
    "matches.head()"
   ]
  },
  {
   "cell_type": "code",
   "execution_count": 171,
   "metadata": {
    "scrolled": false
   },
   "outputs": [
    {
     "data": {
      "text/html": [
       "<div>\n",
       "<style scoped>\n",
       "    .dataframe tbody tr th:only-of-type {\n",
       "        vertical-align: middle;\n",
       "    }\n",
       "\n",
       "    .dataframe tbody tr th {\n",
       "        vertical-align: top;\n",
       "    }\n",
       "\n",
       "    .dataframe thead th {\n",
       "        text-align: right;\n",
       "    }\n",
       "</style>\n",
       "<table border=\"1\" class=\"dataframe\">\n",
       "  <thead>\n",
       "    <tr style=\"text-align: right;\">\n",
       "      <th></th>\n",
       "      <th>season</th>\n",
       "      <th>id_bat_first</th>\n",
       "      <th>id_bowl_first</th>\n",
       "    </tr>\n",
       "  </thead>\n",
       "  <tbody>\n",
       "    <tr>\n",
       "      <th>0</th>\n",
       "      <td>2008</td>\n",
       "      <td>24</td>\n",
       "      <td>34</td>\n",
       "    </tr>\n",
       "    <tr>\n",
       "      <th>1</th>\n",
       "      <td>2009</td>\n",
       "      <td>27</td>\n",
       "      <td>29</td>\n",
       "    </tr>\n",
       "    <tr>\n",
       "      <th>2</th>\n",
       "      <td>2010</td>\n",
       "      <td>31</td>\n",
       "      <td>28</td>\n",
       "    </tr>\n",
       "    <tr>\n",
       "      <th>3</th>\n",
       "      <td>2011</td>\n",
       "      <td>33</td>\n",
       "      <td>39</td>\n",
       "    </tr>\n",
       "    <tr>\n",
       "      <th>4</th>\n",
       "      <td>2012</td>\n",
       "      <td>34</td>\n",
       "      <td>40</td>\n",
       "    </tr>\n",
       "    <tr>\n",
       "      <th>5</th>\n",
       "      <td>2013</td>\n",
       "      <td>37</td>\n",
       "      <td>37</td>\n",
       "    </tr>\n",
       "    <tr>\n",
       "      <th>6</th>\n",
       "      <td>2014</td>\n",
       "      <td>22</td>\n",
       "      <td>37</td>\n",
       "    </tr>\n",
       "    <tr>\n",
       "      <th>7</th>\n",
       "      <td>2015</td>\n",
       "      <td>32</td>\n",
       "      <td>24</td>\n",
       "    </tr>\n",
       "    <tr>\n",
       "      <th>8</th>\n",
       "      <td>2016</td>\n",
       "      <td>21</td>\n",
       "      <td>39</td>\n",
       "    </tr>\n",
       "    <tr>\n",
       "      <th>9</th>\n",
       "      <td>2017</td>\n",
       "      <td>26</td>\n",
       "      <td>32</td>\n",
       "    </tr>\n",
       "    <tr>\n",
       "      <th>10</th>\n",
       "      <td>2018</td>\n",
       "      <td>28</td>\n",
       "      <td>32</td>\n",
       "    </tr>\n",
       "    <tr>\n",
       "      <th>11</th>\n",
       "      <td>2019</td>\n",
       "      <td>22</td>\n",
       "      <td>35</td>\n",
       "    </tr>\n",
       "  </tbody>\n",
       "</table>\n",
       "</div>"
      ],
      "text/plain": [
       "    season  id_bat_first  id_bowl_first\n",
       "0   2008    24            34           \n",
       "1   2009    27            29           \n",
       "2   2010    31            28           \n",
       "3   2011    33            39           \n",
       "4   2012    34            40           \n",
       "5   2013    37            37           \n",
       "6   2014    22            37           \n",
       "7   2015    32            24           \n",
       "8   2016    21            39           \n",
       "9   2017    26            32           \n",
       "10  2018    28            32           \n",
       "11  2019    22            35           "
      ]
     },
     "execution_count": 171,
     "metadata": {},
     "output_type": "execute_result"
    }
   ],
   "source": [
    "df = matches\n",
    "df['win_by_runs'] = df['win_by_runs'].astype(int)\n",
    "df['win_by_wickets'] = df['win_by_wickets'].astype(int)\n",
    "\n",
    "df_plot1 = df[df['win_by_runs'] > 0].groupby('season').agg({'id':{'bat_first': 'count'}}).reset_index()\n",
    "df_plot2 = df[df['win_by_wickets'] > 0].groupby('season').agg({'id':{'bowl_first': 'count'}}).reset_index()\n",
    "df_plot = pd.merge(df_plot1, df_plot2, on = 'season' )\n",
    "df_plot.columns = ['_'.join(x) for x in df_plot.columns.ravel()]\n",
    "df_plot.rename(columns = {'season_':'season'},inplace=True)\n",
    "df_plot"
   ]
  },
  {
   "cell_type": "code",
   "execution_count": 176,
   "metadata": {},
   "outputs": [
    {
     "data": {
      "text/plain": [
       "12"
      ]
     },
     "execution_count": 176,
     "metadata": {},
     "output_type": "execute_result"
    }
   ],
   "source": [
    "len(df_plot.season)"
   ]
  },
  {
   "cell_type": "code",
   "execution_count": 186,
   "metadata": {
    "scrolled": true
   },
   "outputs": [
    {
     "data": {
      "image/png": "[encoded data removed]",
      "text/plain": [
       "<Figure size 432x288 with 1 Axes>"
      ]
     },
     "metadata": {
      "needs_background": "light"
     },
     "output_type": "display_data"
    }
   ],
   "source": [
    "# create plot\n",
    "fig, ax = plt.subplots()\n",
    "index = np.arange(len(df_plot))\n",
    "bar_width = 0.35\n",
    "opacity = 0.8\n",
    "\n",
    "rects1 = plt.bar(index, df_plot.id_bat_first, bar_width,\n",
    "alpha=opacity,\n",
    "color='b',\n",
    "label='Bat First')\n",
    "\n",
    "rects2 = plt.bar(index + bar_width, df_plot.id_bowl_first, bar_width,\n",
    "alpha=opacity,\n",
    "color='g',\n",
    "label='Bowl_First')\n",
    "\n",
    "plt.xlabel('Season')\n",
    "plt.ylabel('Number of years')\n",
    "plt.title('Win by season')\n",
    "plt.xticks(index + bar_width, df_plot.season)\n",
    "plt.legend()\n",
    "\n",
    "plt.tight_layout()\n",
    "plt.show()"
   ]
  },
  {
   "cell_type": "code",
   "execution_count": 189,
   "metadata": {},
   "outputs": [
    {
     "data": {
      "text/plain": [
       "matplotlib.container.BarContainer"
      ]
     },
     "execution_count": 189,
     "metadata": {},
     "output_type": "execute_result"
    }
   ],
   "source": [
    "type(rects1)"
   ]
  },
  {
   "cell_type": "code",
   "execution_count": null,
   "metadata": {},
   "outputs": [],
   "source": []
  }
 ],
 "metadata": {
  "kernelspec": {
   "display_name": "Python 3",
   "language": "python",
   "name": "python3"
  },
  "language_info": {
   "codemirror_mode": {
    "name": "ipython",
    "version": 3
   },
   "file_extension": ".py",
   "mimetype": "text/x-python",
   "name": "python",
   "nbconvert_exporter": "python",
   "pygments_lexer": "ipython3",
   "version": "3.7.3"
  }
 },
 "nbformat": 4,
 "nbformat_minor": 2
}
